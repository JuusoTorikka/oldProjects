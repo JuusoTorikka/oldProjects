{
  "nbformat": 4,
  "nbformat_minor": 0,
  "metadata": {
    "colab": {
      "name": "MLP-784-30-10.ipynb",
      "provenance": []
    },
    "kernelspec": {
      "name": "python3",
      "display_name": "Python 3"
    },
    "language_info": {
      "name": "python"
    }
  },
  "cells": [
    {
      "cell_type": "code",
      "metadata": {
        "id": "1avkkM1_uSij"
      },
      "source": [
        "import pandas as pd\n",
        "import numpy as np\n",
        "from matplotlib import pyplot as plt\n",
        "import seaborn as sns\n",
        "from tensorflow import keras\n",
        "from keras.utils.np_utils import to_categorical"
      ],
      "execution_count": 1,
      "outputs": []
    },
    {
      "cell_type": "code",
      "metadata": {
        "id": "9UtGzhWQuTbU"
      },
      "source": [
        "# Sigmoid function and the derivative sigmoid function\n",
        "def sigmoid(x):\n",
        "    return 1/(1+np.exp(-x))\n",
        "\n",
        "def sigmoid_deriv(x):\n",
        "    return sigmoid(x)*(1 - sigmoid(x))\n",
        "\n",
        "# Normalizing the array\n",
        "def normalize(X, axis=-1, order=2):\n",
        "    l2 = np.atleast_1d(np.linalg.norm(X, order, axis))\n",
        "    l2[l2 == 0] = 1\n",
        "    return X / np.expand_dims(l2, axis)"
      ],
      "execution_count": 2,
      "outputs": []
    },
    {
      "cell_type": "code",
      "metadata": {
        "colab": {
          "base_uri": "https://localhost:8080/",
          "height": 1000
        },
        "id": "iAXebz86uVdh",
        "outputId": "f7ec3204-cee2-4377-bc52-89fdc249813e"
      },
      "source": [
        "input_size = 784\n",
        "hidden_nodes = 30\n",
        "output_size = 10\n",
        "epochs = 100\n",
        "train_test_split = 0.85\n",
        "#learning rate\n",
        "n = 0.07\n",
        "\n",
        "errors = []\n",
        "\n",
        "(X_train, y_train), (X_test, y_test) = keras.datasets.mnist.load_data()\n",
        "\n",
        "# Reshaping the data\n",
        "X_train = X_train.reshape((X_train.shape[0], 28, 28, 1))\n",
        "X_test = X_test.reshape((X_test.shape[0], 28, 28, 1))\n",
        "\n",
        "# One-hot-encoding for the target values\n",
        "# Saving original values for later\n",
        "y_test_original = y_test\n",
        "y_train_original = y_train\n",
        "\n",
        "y_train = to_categorical(y_train)\n",
        "y_test = to_categorical(y_test)\n",
        "\n",
        "X_train = X_train.flatten().reshape(60000, 784)\n",
        "\n",
        "\n",
        "# Giving weights\n",
        "w0 = 2*np.random.random((input_size, hidden_nodes)) - 1 # Input layer\n",
        "w1 = 2*np.random.random((hidden_nodes, output_size)) - 1 # Hidden layer\n",
        "\n",
        "\n",
        "for i in range(epochs):\n",
        "    # Feed-forward\n",
        "    layer0 = X_train\n",
        "    layer1 = sigmoid(np.dot(layer0, w0))\n",
        "    layer2 = sigmoid(np.dot(layer1, w1))\n",
        "\n",
        "    # Back propagation using gradient descent\n",
        "    layer2_error = y_train - layer2\n",
        "    layer2_delta = layer2_error * sigmoid_deriv(layer2)\n",
        "    \n",
        "    layer1_error = layer2_delta.dot(w1.T)\n",
        "    layer1_delta = layer1_error * sigmoid_deriv(layer1)\n",
        "    \n",
        "    w1 += layer1.T.dot(layer2_delta) * n\n",
        "    w0 += layer0.T.dot(layer1_delta) * n\n",
        "    \n",
        "    error = np.mean(np.abs(layer2_error))\n",
        "    errors.append(error)\n",
        "    accuracy = (1 - error) * 100\n",
        "    \n",
        "    #if (i % 10000 == 0):\n",
        "    print(\"Accuracy on epoch\", i, \"is\" ,accuracy, \"%\")\n",
        "\n",
        "# Plotting the accuracy chart\n",
        "plt.plot(errors)\n",
        "plt.xlabel('Epoch')\n",
        "plt.ylabel('Error')\n",
        "plt.show()\n",
        "        \n",
        "print(\"Training Accuracy \" + str(round(accuracy,2)) + \"%\")\n",
        "print(\"Histogram of the accuracy development over each epoch\")"
      ],
      "execution_count": 3,
      "outputs": [
        {
          "output_type": "stream",
          "text": [
            "Downloading data from https://storage.googleapis.com/tensorflow/tf-keras-datasets/mnist.npz\n",
            "11493376/11490434 [==============================] - 0s 0us/step\n"
          ],
          "name": "stdout"
        },
        {
          "output_type": "stream",
          "text": [
            "/usr/local/lib/python3.7/dist-packages/ipykernel_launcher.py:3: RuntimeWarning: overflow encountered in exp\n",
            "  This is separate from the ipykernel package so we can avoid doing imports until\n"
          ],
          "name": "stderr"
        },
        {
          "output_type": "stream",
          "text": [
            "Accuracy on epoch 0 is 50.450169183801684 %\n",
            "Accuracy on epoch 1 is 90.0 %\n",
            "Accuracy on epoch 2 is 50.0 %\n",
            "Accuracy on epoch 3 is 90.0 %\n",
            "Accuracy on epoch 4 is 66.03733333333332 %\n",
            "Accuracy on epoch 5 is 74.06099999999999 %\n",
            "Accuracy on epoch 6 is 90.0 %\n",
            "Accuracy on epoch 7 is 50.0 %\n",
            "Accuracy on epoch 8 is 57.95133333333333 %\n",
            "Accuracy on epoch 9 is 81.95033333333333 %\n",
            "Accuracy on epoch 10 is 90.0 %\n",
            "Accuracy on epoch 11 is 90.0 %\n",
            "Accuracy on epoch 12 is 50.02066666666667 %\n",
            "Accuracy on epoch 13 is 90.0 %\n",
            "Accuracy on epoch 14 is 90.0 %\n",
            "Accuracy on epoch 15 is 87.514237759135 %\n",
            "Accuracy on epoch 16 is 68.68750006050226 %\n",
            "Accuracy on epoch 17 is 89.95301334796554 %\n",
            "Accuracy on epoch 18 is 58.206218348440665 %\n",
            "Accuracy on epoch 19 is 89.54901735770962 %\n",
            "Accuracy on epoch 20 is 47.755623885237384 %\n",
            "Accuracy on epoch 21 is 90.0 %\n",
            "Accuracy on epoch 22 is 90.04666666666667 %\n",
            "Accuracy on epoch 23 is 61.846833333333336 %\n",
            "Accuracy on epoch 24 is 62.40012407546056 %\n",
            "Accuracy on epoch 25 is 89.19516637718824 %\n",
            "Accuracy on epoch 26 is 78.0696666667082 %\n",
            "Accuracy on epoch 27 is 87.45816957868563 %\n",
            "Accuracy on epoch 28 is 69.3331987853315 %\n",
            "Accuracy on epoch 29 is 88.13156173725186 %\n",
            "Accuracy on epoch 30 is 84.98666567971517 %\n",
            "Accuracy on epoch 31 is 86.10733383972729 %\n",
            "Accuracy on epoch 32 is 76.95921995556301 %\n",
            "Accuracy on epoch 33 is 88.049903104686 %\n",
            "Accuracy on epoch 34 is 82.77051300923821 %\n",
            "Accuracy on epoch 35 is 84.79019468177165 %\n",
            "Accuracy on epoch 36 is 87.28778782399051 %\n",
            "Accuracy on epoch 37 is 85.72375063315481 %\n",
            "Accuracy on epoch 38 is 88.67357535295352 %\n",
            "Accuracy on epoch 39 is 80.62369512864258 %\n",
            "Accuracy on epoch 40 is 91.04935513078762 %\n",
            "Accuracy on epoch 41 is 83.70873912724821 %\n",
            "Accuracy on epoch 42 is 90.3393581002459 %\n",
            "Accuracy on epoch 43 is 82.80848884404767 %\n",
            "Accuracy on epoch 44 is 88.81794497181612 %\n",
            "Accuracy on epoch 45 is 79.82489184261014 %\n",
            "Accuracy on epoch 46 is 90.38290654235313 %\n",
            "Accuracy on epoch 47 is 82.45456026498867 %\n",
            "Accuracy on epoch 48 is 91.30845137411396 %\n",
            "Accuracy on epoch 49 is 84.51784426060523 %\n",
            "Accuracy on epoch 50 is 90.92805061681007 %\n",
            "Accuracy on epoch 51 is 90.79942925726121 %\n",
            "Accuracy on epoch 52 is 89.27057175835002 %\n",
            "Accuracy on epoch 53 is 89.47654954418991 %\n",
            "Accuracy on epoch 54 is 92.65701168594651 %\n",
            "Accuracy on epoch 55 is 90.76979608627457 %\n",
            "Accuracy on epoch 56 is 93.0635844665654 %\n",
            "Accuracy on epoch 57 is 90.32865211739927 %\n",
            "Accuracy on epoch 58 is 92.49209356182955 %\n",
            "Accuracy on epoch 59 is 92.57273888939608 %\n",
            "Accuracy on epoch 60 is 93.36263045063818 %\n",
            "Accuracy on epoch 61 is 93.10358730745764 %\n",
            "Accuracy on epoch 62 is 93.75470441152899 %\n",
            "Accuracy on epoch 63 is 92.05408141215294 %\n",
            "Accuracy on epoch 64 is 93.47297350417647 %\n",
            "Accuracy on epoch 65 is 93.47838533119109 %\n",
            "Accuracy on epoch 66 is 92.7643150966307 %\n",
            "Accuracy on epoch 67 is 92.41290748922617 %\n",
            "Accuracy on epoch 68 is 93.10567642550299 %\n",
            "Accuracy on epoch 69 is 93.57947741427792 %\n",
            "Accuracy on epoch 70 is 93.45575582297147 %\n",
            "Accuracy on epoch 71 is 94.12407982750439 %\n",
            "Accuracy on epoch 72 is 93.14955830461376 %\n",
            "Accuracy on epoch 73 is 93.93892436563297 %\n",
            "Accuracy on epoch 74 is 93.06377722434456 %\n",
            "Accuracy on epoch 75 is 92.88348962668287 %\n",
            "Accuracy on epoch 76 is 92.67095195162251 %\n",
            "Accuracy on epoch 77 is 92.75448785931447 %\n",
            "Accuracy on epoch 78 is 93.4565106133916 %\n",
            "Accuracy on epoch 79 is 93.28669391652703 %\n",
            "Accuracy on epoch 80 is 94.2837789854214 %\n",
            "Accuracy on epoch 81 is 92.65107003824669 %\n",
            "Accuracy on epoch 82 is 94.31613042636327 %\n",
            "Accuracy on epoch 83 is 93.6165003206063 %\n",
            "Accuracy on epoch 84 is 94.67461198521559 %\n",
            "Accuracy on epoch 85 is 92.4106660114925 %\n",
            "Accuracy on epoch 86 is 94.33357559703589 %\n",
            "Accuracy on epoch 87 is 92.90608388736537 %\n",
            "Accuracy on epoch 88 is 93.15418617012368 %\n",
            "Accuracy on epoch 89 is 89.76165729549975 %\n",
            "Accuracy on epoch 90 is 94.00001679961463 %\n",
            "Accuracy on epoch 91 is 92.39941763973547 %\n",
            "Accuracy on epoch 92 is 93.68121381517594 %\n",
            "Accuracy on epoch 93 is 92.54975733951078 %\n",
            "Accuracy on epoch 94 is 93.68886058101795 %\n",
            "Accuracy on epoch 95 is 93.07684525765383 %\n",
            "Accuracy on epoch 96 is 92.868371436395 %\n",
            "Accuracy on epoch 97 is 93.22441279622514 %\n",
            "Accuracy on epoch 98 is 92.85017225548296 %\n",
            "Accuracy on epoch 99 is 93.51099470177091 %\n"
          ],
          "name": "stdout"
        },
        {
          "output_type": "display_data",
          "data": {
            "image/png": "[encoded data removed]",
            "text/plain": [
              "<Figure size 432x288 with 1 Axes>"
            ]
          },
          "metadata": {
            "tags": [],
            "needs_background": "light"
          }
        },
        {
          "output_type": "stream",
          "text": [
            "Training Accuracy 93.51%\n",
            "Histogram of the accuracy development over each epoch\n"
          ],
          "name": "stdout"
        }
      ]
    },
    {
      "cell_type": "code",
      "metadata": {
        "colab": {
          "base_uri": "https://localhost:8080/"
        },
        "id": "OfIzZYXcuXrr",
        "outputId": "ab6261ca-2747-41e8-835c-e9bfb57e0fcf"
      },
      "source": [
        "# Validating the results with the test set\n",
        "X_test = X_test.flatten().reshape(10000, 784)\n",
        "layer0 = X_test\n",
        "\n",
        "layer1 = sigmoid(np.dot(layer0, w0))\n",
        "layer2 = sigmoid(np.dot(layer1, w1))\n",
        "\n",
        "layer2_error = y_test - layer2\n",
        "\n",
        "error = np.mean(np.abs(layer2_error))\n",
        "accuracy = (1 - error) * 100\n",
        "\n",
        "\n",
        "print(\"Validation Accuracy \" + str(round(accuracy,2)) + \"%\")"
      ],
      "execution_count": 4,
      "outputs": [
        {
          "output_type": "stream",
          "text": [
            "Validation Accuracy 93.36%\n"
          ],
          "name": "stdout"
        },
        {
          "output_type": "stream",
          "text": [
            "/usr/local/lib/python3.7/dist-packages/ipykernel_launcher.py:3: RuntimeWarning: overflow encountered in exp\n",
            "  This is separate from the ipykernel package so we can avoid doing imports until\n"
          ],
          "name": "stderr"
        }
      ]
    }
  ]
}